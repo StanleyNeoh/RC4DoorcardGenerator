{
 "cells": [
  {
   "cell_type": "code",
   "execution_count": 1,
   "metadata": {},
   "outputs": [],
   "source": [
    "import pandas as pd\n",
    "\n",
    "NameCol = 'Name'\n",
    "DisplayCol = 'Name (to be displayed on doorcard)'\n",
    "YearCol = 'Year'\n",
    "MajorCol = 'Major'\n",
    "CaptionCol = 'Doorcard Caption'\n",
    "ExcelLocation = './doorcards.xlsx'\n",
    "\n",
    "TemplateLocation = './templates/URSA_Door_card.pptx'\n",
    "LayoutName = 'Doorcard'\n",
    "FontLocation = './font/DINCondensed-Regular.ttf'\n",
    "\n",
    "PhotoLocation = './doorcard_photos'\n",
    "PngDestination = './doorcards_png'\n",
    "PptxDestination = './doorcards_pptx'\n",
    "\n",
    "\n",
    "df = pd.read_excel(ExcelLocation)"
   ]
  },
  {
   "cell_type": "code",
   "execution_count": 2,
   "metadata": {},
   "outputs": [],
   "source": [
    "import re\n",
    "import os\n",
    "from PIL import Image\n",
    "import aspose.slides as slides\n",
    "import aspose.pydrawing as drawing\n",
    "\n",
    "def ProcessField(s):\n",
    "    return re.sub(r'(?<!\\w)and(?!\\w)',\"&\", s).upper()\n",
    "\n",
    "def GetFileName(name):\n",
    "    name = name[:20].strip()\n",
    "    picArr = os.listdir(PhotoLocation)\n",
    "    filename = []\n",
    "    for x in picArr:\n",
    "        searched = re.search(name, x)\n",
    "        if searched:\n",
    "            filename.append(x)\n",
    "    if len(filename) == 0:\n",
    "        print(\"No picture found for {0}\".format(name))\n",
    "        return None\n",
    "    if len(filename) > 1:\n",
    "        print(\"Ambiguity in filename for {0}. Choosing first path\".format(name), filename)\n",
    "    return filename[0]\n",
    "\n",
    "def PrimePics():\n",
    "    imagenames = os.listdir(PhotoLocation)\n",
    "    for imagename in imagenames:\n",
    "        path = os.path.join(PhotoLocation, imagename)\n",
    "        try:\n",
    "            im = Image.open(path)\n",
    "            im.save(path)\n",
    "        except Exception as e:\n",
    "            print(e)"
   ]
  },
  {
   "cell_type": "code",
   "execution_count": 3,
   "metadata": {},
   "outputs": [],
   "source": [
    "from logging import PlaceHolder\n",
    "from pptx import Presentation\n",
    "from pptx.util import Pt\n",
    "import os\n",
    "import re\n",
    "from PIL import Image\n",
    "\n",
    "def CreateDoorcard(name, data_dict):\n",
    "    prs = Presentation(TemplateLocation)\n",
    "    phs = prs.slides[0].placeholders\n",
    "    for ph in phs:\n",
    "        if ph.name == \"Picture\":\n",
    "            ph.insert_picture(os.path.join(PhotoLocation, GetFileName(name)))\n",
    "        else:\n",
    "            ph.text = ProcessField(data_dict[ph.name])\n",
    "\n",
    "    safeName = re.sub(r'[^A-z]', \"\", name) + \"_Ursa.pptx\"\n",
    "    if not os.path.exists(PptxDestination):\n",
    "        os.makedirs(PptxDestination)\n",
    "    prs.save(os.path.join(PptxDestination, safeName))\n",
    "\n",
    "\n",
    "## Experimental. Doesnt work\n",
    "def BuildDoorcards(prs, name, data_dict):\n",
    "    refSlide = Presentation(TemplateLocation).slides[0]\n",
    "    if prs == None:\n",
    "        prs = Presentation()\n",
    "    sl = prs.slides.add_slide(refSlide.slide_layout)\n",
    "    sl.name = re.sub(r'[^A-z]', \"\", name) + \"_Ursa\"\n",
    "\n",
    "    for ph, refph in zip(list(sl.placeholders), list(refSlide.placeholders)):\n",
    "        print(refph.name, ph.name)\n",
    "        if refph.name == \"Picture\":\n",
    "            ph.insert_picture(os.path.join(PhotoLocation, GetFileName(name)))\n",
    "        else:\n",
    "            ph.text = ProcessField(data_dict[refph.name])\n",
    "    return prs"
   ]
  },
  {
   "cell_type": "code",
   "execution_count": 4,
   "metadata": {},
   "outputs": [
    {
     "name": "stdout",
     "output_type": "stream",
     "text": [
      "Ambiguity in filename for Min-Rei Seah. Choosing first path ['DA12265F-53A6-4947-A972-B886BE687E60_Min-Rei Seah.jpeg', 'photo1659344868_Min-Rei Seah.jpeg']\n",
      "Ambiguity in filename for Min-Rei Seah. Choosing first path ['DA12265F-53A6-4947-A972-B886BE687E60_Min-Rei Seah.jpeg', 'photo1659344868_Min-Rei Seah.jpeg']\n"
     ]
    }
   ],
   "source": [
    "PrimePics()\n",
    "for i, row in df.iterrows():\n",
    "    try:\n",
    "        CreateDoorcard(row[NameCol], {\"Name\": row[DisplayCol], \"Year\": row[YearCol], \"Major\": row[MajorCol], \"Caption\": row[CaptionCol]})\n",
    "    except Exception as e:\n",
    "        print(\"Error at {0}\".format(row[NameCol]), e)"
   ]
  }
 ],
 "metadata": {
  "kernelspec": {
   "display_name": "Python 3.10.5 64-bit (windows store)",
   "language": "python",
   "name": "python3"
  },
  "language_info": {
   "codemirror_mode": {
    "name": "ipython",
    "version": 3
   },
   "file_extension": ".py",
   "mimetype": "text/x-python",
   "name": "python",
   "nbconvert_exporter": "python",
   "pygments_lexer": "ipython3",
   "version": "3.10.6"
  },
  "orig_nbformat": 4,
  "vscode": {
   "interpreter": {
    "hash": "ecf25fb023808cfd32772909a6b5466dccbf95a6622dc55e103c65f3255affdb"
   }
  }
 },
 "nbformat": 4,
 "nbformat_minor": 2
}
